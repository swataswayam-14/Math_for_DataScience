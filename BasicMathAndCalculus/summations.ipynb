{
 "cells": [
  {
   "cell_type": "code",
   "execution_count": 1,
   "metadata": {},
   "outputs": [
    {
     "name": "stdout",
     "output_type": "stream",
     "text": [
      "100\n",
      "30\n"
     ]
    }
   ],
   "source": [
    "# summation of elements in python\n",
    "x = [1,2,3,4]\n",
    "n = len(x)\n",
    "\n",
    "summation = sum(10*x[i] for i in range(0,n))\n",
    "print(summation)\n",
    "\n",
    "# summation of elements using sympy\n",
    "\n",
    "from sympy import *\n",
    "\n",
    "i,n = symbols('i n')\n",
    "\n",
    "sumSympy = Sum(2*i, (i,1,n))\n",
    "\n",
    "sumUpto5 = sumSympy.subs(n,5)\n",
    "print(sumUpto5.doit())"
   ]
  },
  {
   "cell_type": "code",
   "execution_count": null,
   "metadata": {},
   "outputs": [],
   "source": []
  }
 ],
 "metadata": {
  "kernelspec": {
   "display_name": "Python 3",
   "language": "python",
   "name": "python3"
  },
  "language_info": {
   "codemirror_mode": {
    "name": "ipython",
    "version": 3
   },
   "file_extension": ".py",
   "mimetype": "text/x-python",
   "name": "python",
   "nbconvert_exporter": "python",
   "pygments_lexer": "ipython3",
   "version": "3.11.1"
  }
 },
 "nbformat": 4,
 "nbformat_minor": 2
}
