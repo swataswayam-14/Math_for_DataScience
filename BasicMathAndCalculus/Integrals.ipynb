{
 "cells": [
  {
   "cell_type": "markdown",
   "metadata": {},
   "source": [
    "# Integrals"
   ]
  },
  {
   "cell_type": "markdown",
   "metadata": {},
   "source": [
    "### Integral approximation in python"
   ]
  },
  {
   "cell_type": "code",
   "execution_count": 3,
   "metadata": {},
   "outputs": [
    {
     "name": "stdout",
     "output_type": "stream",
     "text": [
      "1.33\n"
     ]
    }
   ],
   "source": [
    "def approximate_integral(a,b,n,f):\n",
    "    \n",
    "    delta_x = (b - a) / n\n",
    "    total_sum = 0\n",
    "    \n",
    "    for i in range(1,n+1):\n",
    "        midpoint = 0.5 * (2*a + delta_x * (2*i-1))\n",
    "        total_sum += f(midpoint)\n",
    "        \n",
    "    return total_sum * delta_x\n",
    "    \n",
    "def f(x):\n",
    "    return x**2 + 1\n",
    "\n",
    "area = approximate_integral(a=0, b=1,n=5,f=f)\n",
    "print(area)"
   ]
  },
  {
   "cell_type": "markdown",
   "metadata": {},
   "source": [
    "### using sympy to perform integration"
   ]
  },
  {
   "cell_type": "code",
   "execution_count": 4,
   "metadata": {},
   "outputs": [
    {
     "name": "stdout",
     "output_type": "stream",
     "text": [
      "4/3\n"
     ]
    }
   ],
   "source": [
    "from sympy import *\n",
    "\n",
    "x = symbols('x')\n",
    "\n",
    "f = x**2 + 1\n",
    "\n",
    "area = integrate(f,(x,0,1))\n",
    "\n",
    "print(area)"
   ]
  },
  {
   "cell_type": "markdown",
   "metadata": {},
   "source": [
    "## Calculating integrals with limits"
   ]
  },
  {
   "cell_type": "code",
   "execution_count": 5,
   "metadata": {},
   "outputs": [
    {
     "name": "stdout",
     "output_type": "stream",
     "text": [
      "4/3\n"
     ]
    }
   ],
   "source": [
    "x,i,n = symbols('x i n')\n",
    "\n",
    "f = x**2 + 1\n",
    "\n",
    "lower, upper = 0,1\n",
    "\n",
    "delta_x = ((upper-lower) / n)\n",
    "x_i = (lower + delta_x * i)\n",
    "fx_i = f.subs(x,x_i)\n",
    "\n",
    "n_rectangles = Sum(delta_x * fx_i , (i,1,n)).doit()\n",
    "\n",
    "area = limit(n_rectangles, n, oo)\n",
    "print(area)"
   ]
  },
  {
   "cell_type": "code",
   "execution_count": null,
   "metadata": {},
   "outputs": [],
   "source": []
  }
 ],
 "metadata": {
  "kernelspec": {
   "display_name": "Python 3",
   "language": "python",
   "name": "python3"
  },
  "language_info": {
   "codemirror_mode": {
    "name": "ipython",
    "version": 3
   },
   "file_extension": ".py",
   "mimetype": "text/x-python",
   "name": "python",
   "nbconvert_exporter": "python",
   "pygments_lexer": "ipython3",
   "version": "3.11.1"
  }
 },
 "nbformat": 4,
 "nbformat_minor": 2
}
